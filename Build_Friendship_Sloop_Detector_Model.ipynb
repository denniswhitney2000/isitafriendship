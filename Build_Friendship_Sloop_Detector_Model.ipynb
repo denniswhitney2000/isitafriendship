{
 "cells": [
  {
   "cell_type": "markdown",
   "metadata": {},
   "source": [
    "Here’s a Python guide to building an image detection model for friendship sloops. This example uses the TensorFlow library with a simple CNN approach and OpenCV for image preprocessing. You may need to adapt based on your dataset and model requirements."
   ]
  },
  {
   "cell_type": "code",
   "execution_count": null,
   "metadata": {},
   "outputs": [],
   "source": [
    "%pip install tensorflow\n",
    "%pip install opencv-python"
   ]
  },
  {
   "cell_type": "code",
   "execution_count": null,
   "metadata": {},
   "outputs": [],
   "source": [
    "from random import randrange\n",
    "import tensorflow as tf\n",
    "from tensorflow.keras.applications import ResNet50\n",
    "from tensorflow.keras.models import Sequential\n",
    "from tensorflow.keras.layers import Conv2D, MaxPooling2D, Flatten, Dense\n",
    "from tensorflow.keras.preprocessing.image import ImageDataGenerator\n",
    "from tensorflow.keras.applications import ResNet50\n",
    "from tensorflow.keras.layers import GlobalAveragePooling2D, Dense\n",
    "from tensorflow.keras.models import Model\n",
    "import cv2\n",
    "import os\n",
    "import pprint\n",
    "from pathlib import Path\n",
    "from dotenv import load_dotenv\n",
    "\n",
    "# Suppress only the single warning from urllib3.\n",
    "import urllib3\n",
    "urllib3.disable_warnings(category=urllib3.exceptions.InsecureRequestWarning)\n",
    "\n",
    "# Load environment variables from the .env file (if present)\n",
    "load_dotenv()\n",
    "\n",
    "# Define the config class\n",
    "class CFG:\n",
    "\n",
    "    # Define the directory to store the images\n",
    "    DATA_DIR = Path(os.environ['DATA_DIR'])\n",
    "    \n",
    "    # Set the number of batchs for processing\n",
    "    BATCH_SIZE = int(os.environ['BATCH_SIZE'])\n",
    "\n",
    "    # Epocs for model training\n",
    "    NUM_EPOCHS = int(os.environ['NUM_EPOCHS'])\n",
    "    \n",
    "    MODEL_PATH = Path(os.environ['MODEL_PATH'])\n",
    "    \n",
    "pprint.pprint(CFG.__dict__)"
   ]
  },
  {
   "cell_type": "markdown",
   "metadata": {},
   "source": [
    "## 1. Import Libraries and Prepare Data"
   ]
  },
  {
   "cell_type": "code",
   "execution_count": null,
   "metadata": {},
   "outputs": [],
   "source": [
    "# Set up directories\n",
    "data_dir = CFG.DATA_DIR\n",
    "img_size = 224 # 128  # Adjust based on image size\n",
    "batch_size = CFG.BATCH_SIZE\n",
    "\n",
    "# Data Augmentation\n",
    "datagen = ImageDataGenerator(\n",
    "    rescale=1./255,\n",
    "    validation_split=0.2,  # Split for training/validation\n",
    "    horizontal_flip=True,\n",
    "    rotation_range=15,\n",
    "    zoom_range=0.2,\n",
    "    shear_range=0.2\n",
    ")\n",
    "\n",
    "train_gen = datagen.flow_from_directory(\n",
    "    data_dir,\n",
    "    target_size=(img_size, img_size),\n",
    "    batch_size=batch_size,\n",
    "    class_mode='binary',\n",
    "    subset='training'\n",
    ")\n",
    "\n",
    "val_gen = datagen.flow_from_directory(\n",
    "    data_dir,\n",
    "    target_size=(img_size, img_size),\n",
    "    batch_size=batch_size,\n",
    "    class_mode='binary',\n",
    "    subset='validation'\n",
    ")\n",
    "\n",
    "# Load ResNet50 with pretrained weights and exclude top layers\n",
    "base_model = ResNet50(weights='imagenet', include_top=False, input_shape=(img_size, img_size, 3))\n",
    "\n",
    "# Freeze all layers in the base model\n",
    "for layer in base_model.layers:\n",
    "    layer.trainable = False\n",
    "\n",
    "# Add custom classification layers\n",
    "x = base_model.output\n",
    "x = GlobalAveragePooling2D()(x)\n",
    "x = Dense(128, activation='relu')(x)\n",
    "x = Dense(1, activation='sigmoid')(x)\n",
    "\n",
    "print(f'Made: {x}')\n"
   ]
  },
  {
   "cell_type": "markdown",
   "metadata": {},
   "source": [
    "## 2. Show sample of the loaded images"
   ]
  },
  {
   "cell_type": "code",
   "execution_count": null,
   "metadata": {},
   "outputs": [],
   "source": [
    "import os\n",
    "from PIL import Image\n",
    "import matplotlib.pyplot as plt\n",
    "\n",
    "# Get a list of image file paths\n",
    "dir = CFG.DATA_DIR / 'train/friendship_sloop'\n",
    "\n",
    "image_files = [os.path.join(dir, f) for f in os.listdir(dir) if f.endswith('.jpg') or f.endswith('.png')]\n",
    "\n",
    "# Display a 3x3 grid of images\n",
    "fig, axes = plt.subplots(3, 3, figsize=(12, 12))\n",
    "axes = axes.flatten()\n",
    "\n",
    "for img_path, ax in zip(image_files[:9], axes):\n",
    "    img = Image.open(img_path)\n",
    "    ax.imshow(img)\n",
    "    ax.axis('off')\n",
    "    ax.set_title(os.path.basename(img_path))\n",
    "\n",
    "plt.tight_layout()\n",
    "plt.show()"
   ]
  },
  {
   "cell_type": "markdown",
   "metadata": {},
   "source": [
    "## 3. Build the Model\n"
   ]
  },
  {
   "cell_type": "code",
   "execution_count": null,
   "metadata": {},
   "outputs": [],
   "source": [
    "model = Model(inputs=base_model.input, outputs=x)\n",
    "model.compile(optimizer='adam', loss='binary_crossentropy', metrics=['accuracy'])\n",
    "model.summary()\n"
   ]
  },
  {
   "cell_type": "markdown",
   "metadata": {},
   "source": [
    "## 4. Train the Model\n"
   ]
  },
  {
   "cell_type": "code",
   "execution_count": null,
   "metadata": {},
   "outputs": [],
   "source": [
    "history = model.fit(\n",
    "    train_gen,\n",
    "    epochs=CFG.NUM_EPOCHS,\n",
    "    validation_data=val_gen\n",
    ")\n",
    "print(f\"Training completed.\")"
   ]
  },
  {
   "cell_type": "markdown",
   "metadata": {},
   "source": [
    "## 5. Evaluate and Save the Model"
   ]
  },
  {
   "cell_type": "code",
   "execution_count": null,
   "metadata": {},
   "outputs": [],
   "source": [
    "loss, accuracy = model.evaluate(val_gen)\n",
    "print(f\"Validation Accuracy: {accuracy}\")\n",
    "print(f\"Validation Loss: {loss}\")\n",
    "\n",
    "# Create the base directory if it doesn't exist\n",
    "base_dir = CFG.MODEL_PATH.parent\n",
    "os.makedirs(base_dir, exist_ok=True)\n",
    "\n",
    "# Save model\n",
    "outfile = f'{CFG.MODEL_PATH}.keras'\n",
    "model.save(outfile)\n",
    "print(f'saved { os.path.getsize(outfile) } bytes to {outfile}')\n"
   ]
  },
  {
   "cell_type": "markdown",
   "metadata": {},
   "source": [
    "## 6. Model Testing on New Images"
   ]
  },
  {
   "cell_type": "code",
   "execution_count": null,
   "metadata": {},
   "outputs": [],
   "source": [
    "from PIL import Image\n",
    "import numpy as np\n",
    "import matplotlib.pyplot as plt\n",
    "\n",
    "def preprocess_image(image_path):\n",
    "    img = cv2.imread(image_path)\n",
    "    img = cv2.resize(img, (img_size, img_size))\n",
    "    img = img / 255.0\n",
    "    img = img.reshape(-1, img_size, img_size, 3)\n",
    "    return img\n",
    "\n",
    "# Predict\n",
    "# Directory containing test images\n",
    "test_image_dir = 'images/prediction'\n",
    "\n",
    "# Iterate over all images in the directory\n",
    "for filename in os.listdir(test_image_dir):\n",
    "    if filename.endswith('.jpg') or filename.endswith('.png'):\n",
    "        test_image_path = os.path.join(test_image_dir, filename)\n",
    "        \n",
    "        # Show the test image\n",
    "        plt.imshow(Image.open(test_image_path))\n",
    "        plt.axis('off')\n",
    "        plt.show()\n",
    "\n",
    "        # Preprocess and predict\n",
    "        img = preprocess_image(test_image_path)\n",
    "        prediction = model.predict(img)\n",
    "\n",
    "        print(f\"Prediction for {filename}: {prediction}\")\n",
    "        if prediction[0][0] > 0.5:\n",
    "            print(\"Friendship Sloop detected\")\n",
    "        else:\n",
    "            print(\"No Friendship Sloop detected\")\n",
    "\n"
   ]
  }
 ],
 "metadata": {
  "kernelspec": {
   "display_name": "venv",
   "language": "python",
   "name": "python3"
  },
  "language_info": {
   "codemirror_mode": {
    "name": "ipython",
    "version": 3
   },
   "file_extension": ".py",
   "mimetype": "text/x-python",
   "name": "python",
   "nbconvert_exporter": "python",
   "pygments_lexer": "ipython3",
   "version": "3.12.6"
  }
 },
 "nbformat": 4,
 "nbformat_minor": 2
}
